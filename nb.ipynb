{
 "cells": [
  {
   "cell_type": "code",
   "execution_count": 1,
   "metadata": {},
   "outputs": [
    {
     "name": "stdout",
     "output_type": "stream",
     "text": [
      "Valid indices: [0 1 2 3]\n",
      "Diffs: [1 1 1]\n",
      "Segment boundaries: []\n",
      "Segment starts: [0]\n",
      "Segment ends: [4]\n",
      "Selected start index: 0\n",
      "Selected end index: 3\n",
      "Indexes for resource 2: (0, 3)\n",
      "Resource intervals: [ 0. 10. 20. 30.]\n",
      "Valid indices: [0 1 2 3]\n",
      "Diffs: [1 1 1]\n",
      "Segment boundaries: []\n",
      "Segment starts: [0]\n",
      "Segment ends: [4]\n",
      "Selected start index: 0\n",
      "Selected end index: 3\n",
      "Indexes for resource 1: (0, 3)\n",
      "Resource intervals: [ 0. 10. 20. 30.]\n",
      "Allocated resources for task 1: {2: [(0, 10), (20, 30)], 1: [(0, 10), (20, 30)]}\n",
      "PASS\n",
      "Scheduled 1 of 1 tasks.\n"
     ]
    },
    {
     "data": {
      "text/html": [
       "<div>\n",
       "<style scoped>\n",
       "    .dataframe tbody tr th:only-of-type {\n",
       "        vertical-align: middle;\n",
       "    }\n",
       "\n",
       "    .dataframe tbody tr th {\n",
       "        vertical-align: top;\n",
       "    }\n",
       "\n",
       "    .dataframe thead th {\n",
       "        text-align: right;\n",
       "    }\n",
       "</style>\n",
       "<table border=\"1\" class=\"dataframe\">\n",
       "  <thead>\n",
       "    <tr style=\"text-align: right;\">\n",
       "      <th></th>\n",
       "      <th>task_id</th>\n",
       "      <th>assigned_resource_ids</th>\n",
       "      <th>task_start</th>\n",
       "      <th>task_end</th>\n",
       "      <th>resource_intervals</th>\n",
       "    </tr>\n",
       "  </thead>\n",
       "  <tbody>\n",
       "    <tr>\n",
       "      <th>0</th>\n",
       "      <td>1</td>\n",
       "      <td>[2, 1]</td>\n",
       "      <td>0</td>\n",
       "      <td>30</td>\n",
       "      <td>([(0, 10), (20, 30)], [(0, 10), (20, 30)])</td>\n",
       "    </tr>\n",
       "  </tbody>\n",
       "</table>\n",
       "</div>"
      ],
      "text/plain": [
       "   task_id assigned_resource_ids  task_start  task_end  \\\n",
       "0        1                [2, 1]           0        30   \n",
       "\n",
       "                           resource_intervals  \n",
       "0  ([(0, 10), (20, 30)], [(0, 10), (20, 30)])  "
      ]
     },
     "execution_count": 1,
     "metadata": {},
     "output_type": "execute_result"
    }
   ],
   "source": [
    "\n",
    "from src.factryengine.models import Resource, Task, Assignment, ResourceGroup\n",
    "from src.factryengine.scheduler.core import Scheduler\n",
    "\n",
    "machine = Resource(id=1, available_windows=[(0, 50)])\n",
    "operator1 = Resource(id=2, available_windows=[(0, 10), (20, 30)])\n",
    "operator2 = Resource(id=3, available_windows=[(0, 10), (40, 50)])\n",
    "\n",
    "operator_group = ResourceGroup(resources=[operator1, operator2])\n",
    "\n",
    "assignment = Assignment(resource_groups=[operator_group], resource_count=1)\n",
    "\n",
    "# add machine as a constraint\n",
    "t1 = Task(\n",
    "    id=1, duration=20, assignments=[assignment], priority=1, constraints=[machine]\n",
    ")\n",
    "\n",
    "\n",
    "tasks = [t1]\n",
    "resources = [operator1, operator2, machine]\n",
    "\n",
    "result = Scheduler(tasks=tasks, resources=resources).schedule()\n",
    "result.to_dataframe()\n"
   ]
  },
  {
   "cell_type": "code",
   "execution_count": 2,
   "metadata": {},
   "outputs": [
    {
     "name": "stdout",
     "output_type": "stream",
     "text": [
      "Valid indices: [0 1 2 3]\n",
      "Diffs: [1 1 1]\n",
      "Segment boundaries: []\n",
      "Segment starts: [0]\n",
      "Segment ends: [4]\n",
      "Selected start index: 0\n",
      "Selected end index: 3\n",
      "Indexes for resource 1: (0, 3)\n",
      "Resource intervals: [ 0. 10. 40. 45.]\n",
      "Allocated resources for task 1: {1: [(0, 10), (40, 45)]}\n",
      "PASS\n",
      "Scheduled 1 of 1 tasks.\n"
     ]
    },
    {
     "data": {
      "text/plain": [
       "[{'task_id': 1,\n",
       "  'assigned_resource_ids': [1],\n",
       "  'task_start': 0,\n",
       "  'task_end': 45,\n",
       "  'resource_intervals': dict_values([[(0, 10), (40, 45)]])}]"
      ]
     },
     "execution_count": 2,
     "metadata": {},
     "output_type": "execute_result"
    }
   ],
   "source": [
    "from src.factryengine.models import Resource, Task, Assignment, ResourceGroup\n",
    "from src.factryengine.scheduler.core import Scheduler\n",
    "\n",
    "operator1 = Resource(id=1, available_windows=[(0, 10), (40, 50)])\n",
    "\n",
    "operator_group = ResourceGroup(resources=[operator1])\n",
    "\n",
    "assignment = Assignment(resource_groups=[operator_group], resource_count=2)\n",
    "\n",
    "# add machine as a constraint\n",
    "t1 = Task(\n",
    "    id=1, duration=15, assignments=[assignment], priority=1\n",
    ")\n",
    "\n",
    "tasks = [t1]\n",
    "resources = [operator1]\n",
    "\n",
    "result = Scheduler(tasks=tasks, resources=resources).schedule()\n",
    "result.to_dict()\n"
   ]
  },
  {
   "cell_type": "code",
   "execution_count": 3,
   "metadata": {},
   "outputs": [
    {
     "name": "stdout",
     "output_type": "stream",
     "text": [
      "Valid indices: [0 1 2 3]\n",
      "Diffs: [1 1 1]\n",
      "Segment boundaries: []\n",
      "Segment starts: [0]\n",
      "Segment ends: [4]\n",
      "Selected start index: 0\n",
      "Selected end index: 3\n",
      "Indexes for resource 1: (0, 3)\n",
      "Resource intervals: [ 0. 10. 20. 25.]\n",
      "Allocated resources for task 1: {1: [(0, 10), (20, 25)]}\n",
      "PASS\n",
      "Valid indices: [0 1]\n",
      "Diffs: [1]\n",
      "Segment boundaries: []\n",
      "Segment starts: [0]\n",
      "Segment ends: [2]\n",
      "Selected start index: 0\n",
      "Selected end index: 1\n",
      "Indexes for resource 1: (0, 1)\n",
      "Resource intervals: [25. 40.]\n",
      "Allocated resources for task 2: {1: [(25, 40)]}\n",
      "PASS\n",
      "Scheduled 2 of 2 tasks.\n"
     ]
    },
    {
     "data": {
      "text/plain": [
       "[{'task_id': 1,\n",
       "  'assigned_resource_ids': [1],\n",
       "  'task_start': 0,\n",
       "  'task_end': 25,\n",
       "  'resource_intervals': dict_values([[(0, 10), (20, 25)]])},\n",
       " {'task_id': 2,\n",
       "  'assigned_resource_ids': [1],\n",
       "  'task_start': 25,\n",
       "  'task_end': 40,\n",
       "  'resource_intervals': dict_values([[(25, 40)]])}]"
      ]
     },
     "execution_count": 3,
     "metadata": {},
     "output_type": "execute_result"
    }
   ],
   "source": [
    "from src.factryengine.models import Resource, Task, Assignment, ResourceGroup\n",
    "from src.factryengine.scheduler.core import Scheduler\n",
    "\n",
    "machine = Resource(id=1, available_windows=[(0, 10), (20, 45)])\n",
    "\n",
    "# add machine as a constraint\n",
    "t1 = Task(\n",
    "    id=1, duration=15, priority=1, constraints=[machine]\n",
    ")\n",
    "\n",
    "# add machine as a constraint\n",
    "t2 = Task(\n",
    "    id=2, duration=15, priority=2, constraints=[machine]\n",
    ")\n",
    "\n",
    "tasks = [t1, t2]\n",
    "resources = [machine]\n",
    "\n",
    "result = Scheduler(tasks=tasks, resources=resources).schedule()\n",
    "result.to_dict()\n"
   ]
  }
 ],
 "metadata": {
  "kernelspec": {
   "display_name": ".venv",
   "language": "python",
   "name": "python3"
  },
  "language_info": {
   "codemirror_mode": {
    "name": "ipython",
    "version": 3
   },
   "file_extension": ".py",
   "mimetype": "text/x-python",
   "name": "python",
   "nbconvert_exporter": "python",
   "pygments_lexer": "ipython3",
   "version": "3.11.4"
  }
 },
 "nbformat": 4,
 "nbformat_minor": 2
}
