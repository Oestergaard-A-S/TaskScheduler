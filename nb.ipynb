{
 "cells": [
  {
   "cell_type": "code",
   "execution_count": null,
   "metadata": {},
   "outputs": [],
   "source": [
    "\n",
    "from src.factryengine.models import Resource, Task, Assignment, ResourceGroup\n",
    "from src.factryengine.scheduler.core import Scheduler\n",
    "\n",
    "machine = Resource(id=1, available_windows=[(0, 40)])\n",
    "operator1 = Resource(id=2, available_windows=[(0, 40), (30, 50)])\n",
    "operator2 = Resource(id=3, available_windows=[(0, 20), (30, 50)])\n",
    "\n",
    "operator_group = ResourceGroup(resources=[operator1, operator2])\n",
    "\n",
    "assignment = Assignment(resource_groups=[operator_group], resource_count=1)\n",
    "\n",
    "# add machine as a constraint\n",
    "t1 = Task(\n",
    "    id=1, duration=40, assignments=[assignment], priority=1, constraints=[machine]\n",
    ")\n",
    "\n",
    "tasks = [t1]\n",
    "resources = [operator1, operator2, machine]\n",
    "\n",
    "result = Scheduler(tasks=tasks, resources=resources).schedule()\n",
    "result.to_dataframe()\n"
   ]
  },
  {
   "cell_type": "code",
   "execution_count": null,
   "metadata": {},
   "outputs": [],
   "source": [
    "from src.factryengine.models import Resource, Task\n",
    "from src.factryengine.scheduler.core import Scheduler\n",
    "\n",
    "# Define a resource with multiple fragmented windows\n",
    "machine = Resource(id=1, available_windows=[(0, 20), (30, 50)])\n",
    "machine2 = Resource(id=2, available_windows=[(30, 50)])\n",
    "\n",
    "# Create tasks with constraints\n",
    "t1 = Task(id=1, duration=30, priority=1, constraints=[machine, machine2])\n",
    "t2 = Task(id=2, duration=30, priority=2, constraints=[machine, machine2])\n",
    "\n",
    "tasks = [t1, t2]\n",
    "resources = [machine, machine2]\n",
    "\n",
    "# Schedule the tasks\n",
    "result = Scheduler(tasks=tasks, resources=resources).schedule()\n",
    "result.to_dataframe()\n"
   ]
  },
  {
   "cell_type": "code",
   "execution_count": null,
   "metadata": {},
   "outputs": [],
   "source": [
    "from src.factryengine.models import Resource, ResourceGroup, Task, Assignment\n",
    "from src.factryengine.scheduler.core import Scheduler\n",
    "\n",
    "operator1 = Resource(id=1, available_windows=[(0, 10), (40, 60)])\n",
    "operator2 = Resource(id=2, available_windows=[(0, 10), (40, 60)])\n",
    "operator3 = Resource(id=3, available_windows=[(10, 20), (50, 60), (80, 150)])\n",
    "\n",
    "rg1 = ResourceGroup(resources=[operator1, operator2, operator3])\n",
    "\n",
    "assignment = Assignment(resource_groups=[rg1], resource_count=1)\n",
    "\n",
    "t1 = Task(id=1, duration=40, assignments=[assignment], priority=1)\n",
    "\n",
    "tasks = [t1]\n",
    "resources = [operator1, operator2, operator3]\n",
    "result = Scheduler(tasks=tasks, resources=resources).schedule()\n",
    "result.to_dict()"
   ]
  },
  {
   "cell_type": "code",
   "execution_count": null,
   "metadata": {},
   "outputs": [],
   "source": [
    "from src.factryengine.models import Resource, ResourceGroup, Task, Assignment\n",
    "from src.factryengine.scheduler.core import Scheduler\n",
    "\n",
    "# create the resource\n",
    "resource = Resource(id=1, available_windows=[(0, 10), (20, 30)])\n",
    "\n",
    "# create the resource group\n",
    "resource_group = ResourceGroup(resources=[resource])\n",
    "\n",
    "# create the assignment\n",
    "assignment = Assignment(resource_groups=[resource_group], resource_count=1)\n",
    "\n",
    "# create tasks\n",
    "t1 = Task(id=1, duration=5, priority=1, constraints=[resource], predecessor_ids=[2])\n",
    "t2 = Task(id=2, duration=5, priority=1, constraints=[resource])\n",
    "\n",
    "tasks = [t1, t2]\n",
    "result = Scheduler(tasks=tasks, resources=[resource]).schedule()\n",
    "result.to_dict()"
   ]
  }
 ],
 "metadata": {
  "kernelspec": {
   "display_name": ".venv",
   "language": "python",
   "name": "python3"
  },
  "language_info": {
   "codemirror_mode": {
    "name": "ipython",
    "version": 3
   },
   "file_extension": ".py",
   "mimetype": "text/x-python",
   "name": "python",
   "nbconvert_exporter": "python",
   "pygments_lexer": "ipython3",
   "version": "3.11.4"
  }
 },
 "nbformat": 4,
 "nbformat_minor": 2
}
