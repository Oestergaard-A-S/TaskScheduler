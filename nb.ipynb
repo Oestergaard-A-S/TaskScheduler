{
 "cells": [
  {
   "cell_type": "code",
   "execution_count": 2,
   "metadata": {},
   "outputs": [
    {
     "name": "stdout",
     "output_type": "stream",
     "text": [
      "Scheduled 1 of 1 tasks.\n"
     ]
    },
    {
     "data": {
      "text/html": [
       "<div>\n",
       "<style scoped>\n",
       "    .dataframe tbody tr th:only-of-type {\n",
       "        vertical-align: middle;\n",
       "    }\n",
       "\n",
       "    .dataframe tbody tr th {\n",
       "        vertical-align: top;\n",
       "    }\n",
       "\n",
       "    .dataframe thead th {\n",
       "        text-align: right;\n",
       "    }\n",
       "</style>\n",
       "<table border=\"1\" class=\"dataframe\">\n",
       "  <thead>\n",
       "    <tr style=\"text-align: right;\">\n",
       "      <th></th>\n",
       "      <th>task_id</th>\n",
       "      <th>assigned_resource_ids</th>\n",
       "      <th>task_start</th>\n",
       "      <th>task_end</th>\n",
       "      <th>resource_intervals</th>\n",
       "    </tr>\n",
       "  </thead>\n",
       "  <tbody>\n",
       "    <tr>\n",
       "      <th>0</th>\n",
       "      <td>1</td>\n",
       "      <td>[3, 1]</td>\n",
       "      <td>0</td>\n",
       "      <td>50</td>\n",
       "      <td>([(0, 20), (30, 50)], [(0, 20), (30, 50)])</td>\n",
       "    </tr>\n",
       "  </tbody>\n",
       "</table>\n",
       "</div>"
      ],
      "text/plain": [
       "   task_id assigned_resource_ids  task_start  task_end  \\\n",
       "0        1                [3, 1]           0        50   \n",
       "\n",
       "                           resource_intervals  \n",
       "0  ([(0, 20), (30, 50)], [(0, 20), (30, 50)])  "
      ]
     },
     "execution_count": 2,
     "metadata": {},
     "output_type": "execute_result"
    }
   ],
   "source": [
    "\n",
    "from src.factryengine.models import Resource, Task, Assignment, ResourceGroup\n",
    "from src.factryengine.scheduler.core import Scheduler\n",
    "\n",
    "machine = Resource(id=1, available_windows=[(0, 50)])\n",
    "operator1 = Resource(id=2, available_windows=[(0, 20), (30, 50)])\n",
    "operator2 = Resource(id=3, available_windows=[(0, 20), (30, 50)])\n",
    "\n",
    "operator_group = ResourceGroup(resources=[operator1, operator2])\n",
    "\n",
    "assignment = Assignment(resource_groups=[operator_group], resource_count=1)\n",
    "\n",
    "# add machine as a constraint\n",
    "t1 = Task(\n",
    "    id=1, duration=40, assignments=[assignment], priority=1, constraints=[machine]\n",
    ")\n",
    "\n",
    "\n",
    "# # add machine as a constraint\n",
    "# t2 = Task(\n",
    "#     id=2, duration=10, assignments=[assignment], priority=1, constraints=[machine]\n",
    "# )\n",
    "\n",
    "tasks = [t1]\n",
    "resources = [operator1, operator2, machine]\n",
    "\n",
    "result = Scheduler(tasks=tasks, resources=resources).schedule()\n",
    "result.to_dataframe()\n"
   ]
  },
  {
   "cell_type": "code",
   "execution_count": 3,
   "metadata": {},
   "outputs": [
    {
     "name": "stdout",
     "output_type": "stream",
     "text": [
      "Scheduled 2 of 2 tasks.\n"
     ]
    },
    {
     "data": {
      "text/html": [
       "<div>\n",
       "<style scoped>\n",
       "    .dataframe tbody tr th:only-of-type {\n",
       "        vertical-align: middle;\n",
       "    }\n",
       "\n",
       "    .dataframe tbody tr th {\n",
       "        vertical-align: top;\n",
       "    }\n",
       "\n",
       "    .dataframe thead th {\n",
       "        text-align: right;\n",
       "    }\n",
       "</style>\n",
       "<table border=\"1\" class=\"dataframe\">\n",
       "  <thead>\n",
       "    <tr style=\"text-align: right;\">\n",
       "      <th></th>\n",
       "      <th>task_id</th>\n",
       "      <th>assigned_resource_ids</th>\n",
       "      <th>task_start</th>\n",
       "      <th>task_end</th>\n",
       "      <th>resource_intervals</th>\n",
       "    </tr>\n",
       "  </thead>\n",
       "  <tbody>\n",
       "    <tr>\n",
       "      <th>0</th>\n",
       "      <td>1</td>\n",
       "      <td>[1]</td>\n",
       "      <td>0</td>\n",
       "      <td>40</td>\n",
       "      <td>([(0, 20), (30, 40)])</td>\n",
       "    </tr>\n",
       "    <tr>\n",
       "      <th>1</th>\n",
       "      <td>2</td>\n",
       "      <td>[2]</td>\n",
       "      <td>0</td>\n",
       "      <td>20</td>\n",
       "      <td>([(0, 20)])</td>\n",
       "    </tr>\n",
       "  </tbody>\n",
       "</table>\n",
       "</div>"
      ],
      "text/plain": [
       "   task_id assigned_resource_ids  task_start  task_end     resource_intervals\n",
       "0        1                   [1]           0        40  ([(0, 20), (30, 40)])\n",
       "1        2                   [2]           0        20            ([(0, 20)])"
      ]
     },
     "execution_count": 3,
     "metadata": {},
     "output_type": "execute_result"
    }
   ],
   "source": [
    "from src.factryengine.models import Resource, Task\n",
    "from src.factryengine.scheduler.core import Scheduler\n",
    "\n",
    "# Define a resource with multiple fragmented windows\n",
    "machine = Resource(id=1, available_windows=[(0, 20), (30, 50)])\n",
    "machine2 = Resource(id=2, available_windows=[(0, 20), (60, 80)])\n",
    "\n",
    "# Create tasks with constraints\n",
    "t1 = Task(id=1, duration=30, priority=1, constraints=[machine])\n",
    "t2 = Task(id=2, duration=20, priority=2, constraints=[machine, machine2])\n",
    "\n",
    "tasks = [t1, t2]\n",
    "resources = [machine, machine2]\n",
    "\n",
    "# Schedule the tasks\n",
    "result = Scheduler(tasks=tasks, resources=resources).schedule()\n",
    "result.to_dataframe()\n"
   ]
  },
  {
   "cell_type": "code",
   "execution_count": null,
   "metadata": {},
   "outputs": [],
   "source": [
    "from src.factryengine.models import Resource, ResourceGroup, Task, Assignment\n",
    "from src.factryengine.scheduler.core import Scheduler\n",
    "\n",
    "operator1 = Resource(id=1, available_windows=[(0, 20), (40, 60)])\n",
    "operator2 = Resource(id=2, available_windows=[(0, 20), (40, 60)])\n",
    "operator3 = Resource(id=3, available_windows=[(0, 30), (50, 60), (80, 150)])\n",
    "\n",
    "rg1 = ResourceGroup(resources=[operator1, operator2, operator3])\n",
    "\n",
    "assignment = Assignment(resource_groups=[rg1], resource_count=1)\n",
    "\n",
    "t1 = Task(id=1, duration=40, assignments=[assignment], priority=1)\n",
    "t2 = Task(id=2, duration=20, assignments=[assignment], priority=2)\n",
    "\n",
    "tasks = [t1, t2]\n",
    "resources = [operator1, operator2, operator3]\n",
    "result = Scheduler(tasks=tasks, resources=resources).schedule()\n",
    "result.to_dict()"
   ]
  }
 ],
 "metadata": {
  "kernelspec": {
   "display_name": ".venv",
   "language": "python",
   "name": "python3"
  },
  "language_info": {
   "codemirror_mode": {
    "name": "ipython",
    "version": 3
   },
   "file_extension": ".py",
   "mimetype": "text/x-python",
   "name": "python",
   "nbconvert_exporter": "python",
   "pygments_lexer": "ipython3",
   "version": "3.11.4"
  }
 },
 "nbformat": 4,
 "nbformat_minor": 2
}
