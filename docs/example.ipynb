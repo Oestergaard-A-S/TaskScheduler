{
  "cells": [
    {
      "cell_type": "markdown",
      "metadata": {},
      "source": [
        "### Example 1: allocate to fastest resource\n",
        "\n",
        "In this simple example we have 2 tasks which require the same resource. Task 2 depends on Task 1\n"
      ]
    },
    {
      "cell_type": "code",
      "execution_count": 3,
      "metadata": {},
      "outputs": [
        {
          "name": "stdout",
          "output_type": "stream",
          "text": [
            "Scheduled 2 of 2 tasks.\n"
          ]
        }
      ],
      "source": [
        "from factryengine import Task, Resource, Scheduler, Assignment, ResourceGroup\n",
        "\n",
        "# create the resource\n",
        "resource = Resource(id=1, available_windows=[(0, 10), (20, 30)])\n",
        "\n",
        "# create the resource group\n",
        "resource_group = ResourceGroup(resources=[resource])\n",
        "\n",
        "# create the assignment\n",
        "assignment = Assignment(resource_groups=[resource_group], resource_count=1)\n",
        "\n",
        "# create tasks\n",
        "t1 = Task(id=1, duration=5, priority=1, constraints=[resource], predecessor_ids=[2])\n",
        "t2 = Task(id=2, duration=5, priority=1, constraints=[resource])\n",
        "\n",
        "tasks = [t1, t2]\n",
        "result = Scheduler(tasks=tasks, resources=[resource]).schedule()"
      ]
    },
    {
      "cell_type": "code",
      "execution_count": 4,
      "metadata": {},
      "outputs": [
        {
          "data": {
            "text/html": [
              "<div>\n",
              "<style scoped>\n",
              "    .dataframe tbody tr th:only-of-type {\n",
              "        vertical-align: middle;\n",
              "    }\n",
              "\n",
              "    .dataframe tbody tr th {\n",
              "        vertical-align: top;\n",
              "    }\n",
              "\n",
              "    .dataframe thead th {\n",
              "        text-align: right;\n",
              "    }\n",
              "</style>\n",
              "<table border=\"1\" class=\"dataframe\">\n",
              "  <thead>\n",
              "    <tr style=\"text-align: right;\">\n",
              "      <th></th>\n",
              "      <th>task_id</th>\n",
              "      <th>assigned_resource_ids</th>\n",
              "      <th>task_start</th>\n",
              "      <th>task_end</th>\n",
              "      <th>resource_intervals</th>\n",
              "    </tr>\n",
              "  </thead>\n",
              "  <tbody>\n",
              "    <tr>\n",
              "      <th>0</th>\n",
              "      <td>1</td>\n",
              "      <td>[1]</td>\n",
              "      <td>5</td>\n",
              "      <td>10</td>\n",
              "      <td>((5, 10))</td>\n",
              "    </tr>\n",
              "    <tr>\n",
              "      <th>1</th>\n",
              "      <td>2</td>\n",
              "      <td>[1]</td>\n",
              "      <td>0</td>\n",
              "      <td>5</td>\n",
              "      <td>((0, 5))</td>\n",
              "    </tr>\n",
              "  </tbody>\n",
              "</table>\n",
              "</div>"
            ],
            "text/plain": [
              "   task_id assigned_resource_ids  task_start  task_end resource_intervals\n",
              "0        1                   [1]           5        10          ((5, 10))\n",
              "1        2                   [1]           0         5           ((0, 5))"
            ]
          },
          "execution_count": 4,
          "metadata": {},
          "output_type": "execute_result"
        }
      ],
      "source": [
        "# we can get the result as a dataframe\n",
        "result.to_dataframe()"
      ]
    },
    {
      "cell_type": "markdown",
      "metadata": {},
      "source": [
        "Task 2 is scheduled before task 1 because task 2 is a predecessor of task 1.\n"
      ]
    },
    {
      "cell_type": "markdown",
      "metadata": {},
      "source": [
        "### Example 2: allocate to fastest team\n"
      ]
    },
    {
      "cell_type": "code",
      "execution_count": 5,
      "metadata": {},
      "outputs": [
        {
          "name": "stdout",
          "output_type": "stream",
          "text": [
            "Scheduled 1 of 1 tasks.\n"
          ]
        },
        {
          "data": {
            "text/html": [
              "<div>\n",
              "<style scoped>\n",
              "    .dataframe tbody tr th:only-of-type {\n",
              "        vertical-align: middle;\n",
              "    }\n",
              "\n",
              "    .dataframe tbody tr th {\n",
              "        vertical-align: top;\n",
              "    }\n",
              "\n",
              "    .dataframe thead th {\n",
              "        text-align: right;\n",
              "    }\n",
              "</style>\n",
              "<table border=\"1\" class=\"dataframe\">\n",
              "  <thead>\n",
              "    <tr style=\"text-align: right;\">\n",
              "      <th></th>\n",
              "      <th>task_id</th>\n",
              "      <th>assigned_resource_ids</th>\n",
              "      <th>task_start</th>\n",
              "      <th>task_end</th>\n",
              "      <th>resource_intervals</th>\n",
              "    </tr>\n",
              "  </thead>\n",
              "  <tbody>\n",
              "    <tr>\n",
              "      <th>0</th>\n",
              "      <td>1</td>\n",
              "      <td>[3, 4]</td>\n",
              "      <td>0</td>\n",
              "      <td>3</td>\n",
              "      <td>((0, 3), (0, 3))</td>\n",
              "    </tr>\n",
              "  </tbody>\n",
              "</table>\n",
              "</div>"
            ],
            "text/plain": [
              "   task_id assigned_resource_ids  task_start  task_end resource_intervals\n",
              "0        1                [3, 4]           0         3   ((0, 3), (0, 3))"
            ]
          },
          "execution_count": 5,
          "metadata": {},
          "output_type": "execute_result"
        }
      ],
      "source": [
        "r1 = Resource(id=1, available_windows=[(2, 10), (20, 30)])\n",
        "r2 = Resource(id=2, available_windows=[(2, 10), (20, 30)])\n",
        "r3 = Resource(id=3, available_windows=[(0, 10), (20, 30)])\n",
        "r4 = Resource(id=4, available_windows=[(0, 10), (20, 30)])\n",
        "\n",
        "team1 = ResourceGroup(resources=[r1, r2])\n",
        "team2 = ResourceGroup(resources=[r3, r4])\n",
        "\n",
        "assignment1 = Assignment(resource_groups=[team1, team2], use_all_resources=True)\n",
        "\n",
        "t1 = Task(id=1, duration=6, assignments=[assignment1], priority=1)\n",
        "\n",
        "tasks = [t1]\n",
        "resources = [r1, r2, r3, r4]\n",
        "\n",
        "result = Scheduler(tasks=tasks, resources=resources).schedule()\n",
        "result.to_dataframe()"
      ]
    },
    {
      "cell_type": "markdown",
      "metadata": {},
      "source": [
        "duration of 6 is cut in half due to there being 2 workers.\n"
      ]
    },
    {
      "cell_type": "markdown",
      "metadata": {},
      "source": [
        "### Example 3: Combining Constraint and assignments\n",
        "\n",
        "Scenario could be you have a task that require a machine which should be there for the entire duration of the task, and you have a group of resources which can operate the machine but you only need one.\n"
      ]
    },
    {
      "cell_type": "code",
      "execution_count": 6,
      "metadata": {},
      "outputs": [
        {
          "name": "stdout",
          "output_type": "stream",
          "text": [
            "Scheduled 1 of 1 tasks.\n"
          ]
        },
        {
          "data": {
            "text/html": [
              "<div>\n",
              "<style scoped>\n",
              "    .dataframe tbody tr th:only-of-type {\n",
              "        vertical-align: middle;\n",
              "    }\n",
              "\n",
              "    .dataframe tbody tr th {\n",
              "        vertical-align: top;\n",
              "    }\n",
              "\n",
              "    .dataframe thead th {\n",
              "        text-align: right;\n",
              "    }\n",
              "</style>\n",
              "<table border=\"1\" class=\"dataframe\">\n",
              "  <thead>\n",
              "    <tr style=\"text-align: right;\">\n",
              "      <th></th>\n",
              "      <th>task_id</th>\n",
              "      <th>assigned_resource_ids</th>\n",
              "      <th>task_start</th>\n",
              "      <th>task_end</th>\n",
              "      <th>resource_intervals</th>\n",
              "    </tr>\n",
              "  </thead>\n",
              "  <tbody>\n",
              "    <tr>\n",
              "      <th>0</th>\n",
              "      <td>1</td>\n",
              "      <td>[4, 1]</td>\n",
              "      <td>20</td>\n",
              "      <td>30</td>\n",
              "      <td>((20, 30), (20, 30))</td>\n",
              "    </tr>\n",
              "  </tbody>\n",
              "</table>\n",
              "</div>"
            ],
            "text/plain": [
              "   task_id assigned_resource_ids  task_start  task_end    resource_intervals\n",
              "0        1                [4, 1]          20        30  ((20, 30), (20, 30))"
            ]
          },
          "execution_count": 6,
          "metadata": {},
          "output_type": "execute_result"
        }
      ],
      "source": [
        "machine = Resource(id=1, available_windows=[(20, 30)])\n",
        "operator1 = Resource(id=2, available_windows=[(0, 10), (20, 28)])\n",
        "operator2 = Resource(id=3, available_windows=[(15, 25)])\n",
        "operator3 = Resource(id=4, available_windows=[(0, 10), (20, 30)])\n",
        "\n",
        "operator_group = ResourceGroup(resources=[operator1, operator2, operator3])\n",
        "\n",
        "assignment = Assignment(resource_groups=[operator_group], resource_count=1)\n",
        "\n",
        "# add machine as a constraint\n",
        "t1 = Task(\n",
        "    id=1, duration=10, assignments=[assignment], priority=1, constraints=[machine]\n",
        ")\n",
        "\n",
        "tasks = [t1]\n",
        "resources = [operator1, operator2, operator3, machine]\n",
        "\n",
        "result = Scheduler(tasks=tasks, resources=resources).schedule()\n",
        "result.to_dataframe()"
      ]
    },
    {
      "cell_type": "markdown",
      "metadata": {},
      "source": [
        "we can see that the task is scheduled to start at 20 and end at 30, which is the only time when the machine is available. Operator with id 4 is selected as he is the only one avaialble.\n"
      ]
    }
  ],
  "metadata": {
    "kernelspec": {
      "display_name": "base",
      "language": "python",
      "name": "python3"
    },
    "language_info": {
      "codemirror_mode": {
        "name": "ipython",
        "version": 3
      },
      "file_extension": ".py",
      "mimetype": "text/x-python",
      "name": "python",
      "nbconvert_exporter": "python",
      "pygments_lexer": "ipython3",
      "version": "3.11.6"
    },
    "orig_nbformat": 4
  },
  "nbformat": 4,
  "nbformat_minor": 2
}
